# Experiment 8: RNN on Stock Price Prediction

# Step 1: Import Libraries
import numpy as np
import pandas as pd
import matplotlib.pyplot as plt
from sklearn.preprocessing import MinMaxScaler
from tensorflow.keras.models import Sequential
from tensorflow.keras.layers import SimpleRNN, Dense

# Step 2: Load Dataset
# (You can replace this with your own stock dataset)
df = pd.read_csv("https://raw.githubusercontent.com/plotly/datasets/master/finance-charts-apple.csv")
data = df['AAPL.Close'].values.reshape(-1, 1)

# Step 3: Data Normalization
scaler = MinMaxScaler(feature_range=(0, 1))
scaled_data = scaler.fit_transform(data)

# Step 4: Create Time-Series Dataset
def create_dataset(dataset, time_step=60):
    X, y = [], []
    for i in range(len(dataset) - time_step - 1):
        X.append(dataset[i:(i + time_step), 0])
        y.append(dataset[i + time_step, 0])
    return np.array(X), np.array(y)

time_step = 60
X, y = create_dataset(scaled_data, time_step)
X = X.reshape(X.shape[0], X.shape[1], 1)

# Step 5: Split into Train and Test
train_size = int(len(X) * 0.8)
X_train, X_test = X[:train_size], X[train_size:]
y_train, y_test = y[:train_size], y[train_size:]

# Step 6: Build RNN Model
model = Sequential([
    SimpleRNN(100, return_sequences=False, input_shape=(time_step, 1)),
    Dense(1)
])

model.compile(optimizer='adam', loss='mean_squared_error')

# Step 7: Train Model
history = model.fit(X_train, y_train, epochs=20, batch_size=32, validation_data=(X_test, y_test), verbose=1)

# Step 8: Predict and Inverse Transform
predicted = model.predict(X_test)
predicted_price = scaler.inverse_transform(predicted.reshape(-1, 1))
actual_price = scaler.inverse_transform(y_test.reshape(-1, 1))

# Step 9: Plot Results
plt.figure(figsize=(10,6))
plt.plot(actual_price, label="Actual Price", color='blue')
plt.plot(predicted_price, label="Predicted Price", color='red')
plt.title("Stock Price Prediction using RNN")
plt.xlabel("Time")
plt.ylabel("Stock Price")
plt.legend()
plt.show()
