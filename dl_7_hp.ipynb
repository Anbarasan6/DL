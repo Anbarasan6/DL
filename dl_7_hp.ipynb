{
 "cells": [
  {
   "cell_type": "code",
   "execution_count": 2,
   "id": "63b62a86-54a4-48b5-a347-544cae1ffafb",
   "metadata": {},
   "outputs": [
    {
     "name": "stdout",
     "output_type": "stream",
     "text": [
      "Collecting keras-tuner\n",
      "  Downloading keras_tuner-1.4.7-py3-none-any.whl.metadata (5.4 kB)\n",
      "Requirement already satisfied: keras in d:\\jupyter\\venv\\lib\\site-packages (from keras-tuner) (2.10.0)\n",
      "Requirement already satisfied: packaging in d:\\jupyter\\venv\\lib\\site-packages (from keras-tuner) (25.0)\n",
      "Requirement already satisfied: requests in d:\\jupyter\\venv\\lib\\site-packages (from keras-tuner) (2.32.4)\n",
      "Collecting kt-legacy (from keras-tuner)\n",
      "  Downloading kt_legacy-1.0.5-py3-none-any.whl.metadata (221 bytes)\n",
      "Requirement already satisfied: charset_normalizer<4,>=2 in d:\\jupyter\\venv\\lib\\site-packages (from requests->keras-tuner) (3.4.2)\n",
      "Requirement already satisfied: idna<4,>=2.5 in d:\\jupyter\\venv\\lib\\site-packages (from requests->keras-tuner) (3.10)\n",
      "Requirement already satisfied: urllib3<3,>=1.21.1 in d:\\jupyter\\venv\\lib\\site-packages (from requests->keras-tuner) (2.5.0)\n",
      "Requirement already satisfied: certifi>=2017.4.17 in d:\\jupyter\\venv\\lib\\site-packages (from requests->keras-tuner) (2025.7.14)\n",
      "Downloading keras_tuner-1.4.7-py3-none-any.whl (129 kB)\n",
      "Downloading kt_legacy-1.0.5-py3-none-any.whl (9.6 kB)\n",
      "Installing collected packages: kt-legacy, keras-tuner\n",
      "\n",
      "   ---------------------------------------- 0/2 [kt-legacy]\n",
      "   ---------------------------------------- 0/2 [kt-legacy]\n",
      "   -------------------- ------------------- 1/2 [keras-tuner]\n",
      "   -------------------- ------------------- 1/2 [keras-tuner]\n",
      "   -------------------- ------------------- 1/2 [keras-tuner]\n",
      "   -------------------- ------------------- 1/2 [keras-tuner]\n",
      "   -------------------- ------------------- 1/2 [keras-tuner]\n",
      "   -------------------- ------------------- 1/2 [keras-tuner]\n",
      "   -------------------- ------------------- 1/2 [keras-tuner]\n",
      "   -------------------- ------------------- 1/2 [keras-tuner]\n",
      "   -------------------- ------------------- 1/2 [keras-tuner]\n",
      "   -------------------- ------------------- 1/2 [keras-tuner]\n",
      "   -------------------- ------------------- 1/2 [keras-tuner]\n",
      "   -------------------- ------------------- 1/2 [keras-tuner]\n",
      "   -------------------- ------------------- 1/2 [keras-tuner]\n",
      "   -------------------- ------------------- 1/2 [keras-tuner]\n",
      "   ---------------------------------------- 2/2 [keras-tuner]\n",
      "\n",
      "Successfully installed keras-tuner-1.4.7 kt-legacy-1.0.5\n"
     ]
    },
    {
     "name": "stderr",
     "output_type": "stream",
     "text": [
      "\n",
      "[notice] A new release of pip is available: 25.1.1 -> 25.2\n",
      "[notice] To update, run: python.exe -m pip install --upgrade pip\n"
     ]
    }
   ],
   "source": [
    "!pip install keras-tuner --upgrade"
   ]
  },
  {
   "cell_type": "code",
   "execution_count": 3,
   "id": "e3d6d289-a760-4a42-be31-6ace555be79c",
   "metadata": {},
   "outputs": [],
   "source": [
    "import tensorflow as tf\n",
    "from tensorflow import keras\n",
    "from keras import layers, Input\n",
    "import keras_tuner as kt  # ✅ correct\n"
   ]
  },
  {
   "cell_type": "code",
   "execution_count": 4,
   "id": "9ebaacda-537e-4982-8670-ac35e4be54ca",
   "metadata": {},
   "outputs": [
    {
     "name": "stdout",
     "output_type": "stream",
     "text": [
      "D:\\Jupyter\\venv\\Scripts\\python.exe\n"
     ]
    }
   ],
   "source": [
    "import sys\n",
    "print(sys.executable)\n"
   ]
  },
  {
   "cell_type": "code",
   "execution_count": 5,
   "id": "11e5e9c8-f44b-405b-8695-a669a5d06801",
   "metadata": {},
   "outputs": [
    {
     "name": "stdout",
     "output_type": "stream",
     "text": [
      "Downloading data from https://storage.googleapis.com/tensorflow/tf-keras-datasets/mnist.npz\n",
      "11490434/11490434 [==============================] - 3s 0us/step\n"
     ]
    }
   ],
   "source": [
    "# Load and preprocess dataset (MNIST)\n",
    "(x_train, y_train), (x_test, y_test) = keras.datasets.mnist.load_data()\n",
    "x_train, x_test = x_train / 255.0, x_test / 255.0\n",
    "x_train = x_train[..., tf.newaxis]\n",
    "x_test = x_test[..., tf.newaxis]\n",
    "x_val, y_val = x_train[-10000:], y_train[-10000:]\n",
    "x_train, y_train = x_train[:-10000], y_train[:-10000]\n"
   ]
  },
  {
   "cell_type": "code",
   "execution_count": 6,
   "id": "fce0770d-c0b6-434e-b9bb-93d26cdf1db8",
   "metadata": {},
   "outputs": [],
   "source": [
    "# =========================\n",
    "# STEP 1: Search Space Setup\n",
    "# =========================\n",
    "search_space = {\n",
    "    'filters': [32, 64, 96, 128],\n",
    "    'kernel_size': [3, 5],\n",
    "    'dense_units': [64, 128, 192, 256],\n",
    "    'dropout': [0.2, 0.3, 0.4, 0.5],\n",
    "    'learning_rate': [1e-2, 1e-3, 1e-4]\n",
    "}"
   ]
  },
  {
   "cell_type": "code",
   "execution_count": 7,
   "id": "81a8d2ee-6750-42b6-8ead-784a871e3f8c",
   "metadata": {},
   "outputs": [],
   "source": [
    "\n",
    "# ==========================================\n",
    "# STEP 2: Wrap Training + Evaluation Function\n",
    "# ==========================================\n",
    "def build_model(hp):\n",
    "    model = keras.Sequential()\n",
    "    model.add(Input(shape=(28, 28, 1)))\n",
    "    model.add(layers.Conv2D(\n",
    "        filters=hp.Choice('filters', search_space['filters']),\n",
    "        kernel_size=hp.Choice('kernel_size', search_space['kernel_size']),\n",
    "        activation='relu'\n",
    "    ))\n",
    "    model.add(layers.MaxPooling2D())\n",
    "    model.add(layers.Flatten())\n",
    "    model.add(layers.Dense(\n",
    "        units=hp.Choice('dense_units', search_space['dense_units']),\n",
    "        activation='relu'\n",
    "    ))\n",
    "    model.add(layers.Dropout(\n",
    "        hp.Choice('dropout', search_space['dropout'])\n",
    "    ))\n",
    "    model.add(layers.Dense(10, activation='softmax'))\n",
    "\n",
    "    model.compile(\n",
    "        optimizer=keras.optimizers.Adam(\n",
    "            learning_rate=hp.Choice('learning_rate', search_space['learning_rate'])\n",
    "        ),\n",
    "        loss='sparse_categorical_crossentropy',\n",
    "        metrics=['accuracy']\n",
    "    )\n",
    "    return model"
   ]
  },
  {
   "cell_type": "code",
   "execution_count": 8,
   "id": "ec3aa168-55f3-4b47-ae0c-78c82709226b",
   "metadata": {},
   "outputs": [],
   "source": [
    "# ===================================\n",
    "# STEP 3: Run the Hyperparameter Tuner\n",
    "# ===================================\n",
    "tuner = kt.RandomSearch(\n",
    "    build_model,\n",
    "    objective='val_accuracy',\n",
    "    max_trials=5,\n",
    "    directory='my_dir',\n",
    "    project_name='cnn_tuning_example'\n",
    ")"
   ]
  },
  {
   "cell_type": "code",
   "execution_count": null,
   "id": "dac26cb8-f792-4ec3-988c-75e824c82360",
   "metadata": {
    "scrolled": true
   },
   "outputs": [
    {
     "name": "stdout",
     "output_type": "stream",
     "text": [
      "Trial 2 Complete [00h 01m 46s]\n",
      "val_accuracy: 0.9890000224113464\n",
      "\n",
      "Best val_accuracy So Far: 0.9890000224113464\n",
      "Total elapsed time: 00h 03m 48s\n",
      "\n",
      "Search: Running Trial #3\n",
      "\n",
      "Value             |Best Value So Far |Hyperparameter\n",
      "32                |32                |filters\n",
      "5                 |5                 |kernel_size\n",
      "64                |192               |dense_units\n",
      "0.3               |0.5               |dropout\n",
      "0.01              |0.001             |learning_rate\n",
      "\n",
      "Epoch 1/5\n",
      "1563/1563 [==============================] - 19s 12ms/step - loss: 0.2144 - accuracy: 0.9361 - val_loss: 0.0767 - val_accuracy: 0.9778\n",
      "Epoch 2/5\n",
      "1563/1563 [==============================] - 21s 13ms/step - loss: 0.1350 - accuracy: 0.9613 - val_loss: 0.1051 - val_accuracy: 0.9735\n",
      "Epoch 3/5\n",
      " 210/1563 [===>..........................] - ETA: 14s - loss: 0.1332 - accuracy: 0.9579"
     ]
    }
   ],
   "source": [
    "\n",
    "# Start tuning\n",
    "tuner.search(x_train, y_train, epochs=5, validation_data=(x_val, y_val))"
   ]
  },
  {
   "cell_type": "code",
   "execution_count": null,
   "id": "536d371e-ce1c-4fed-82b2-7bf1abea0bfe",
   "metadata": {},
   "outputs": [],
   "source": [
    "\n",
    "# Best model summary (optional)\n",
    "best_model = tuner.get_best_models(num_models=1)[0]\n",
    "best_model.summary()\n",
    "# Show a summary of top trials\n",
    "tuner.results_summary()"
   ]
  },
  {
   "cell_type": "code",
   "execution_count": null,
   "id": "4c689afe-4b9e-4dfc-8c66-7caf302fc600",
   "metadata": {},
   "outputs": [],
   "source": [
    "# Print accuracy of all trials\n",
    "print(\"\\nAll Trial Accuracies:\")\n",
    "for trial in tuner.oracle.get_best_trials(num_trials=len(tuner.oracle.trials)):\n",
    "    val_acc = trial.metrics.get_last_value('val_accuracy')\n",
    "    print(f\"Trial ID: {trial.trial_id} | Validation Accuracy: {val_acc:.4f}\")"
   ]
  },
  {
   "cell_type": "code",
   "execution_count": null,
   "id": "0960aa97-2f08-4aae-86e5-82c1294bded3",
   "metadata": {},
   "outputs": [],
   "source": []
  },
  {
   "cell_type": "code",
   "execution_count": null,
   "id": "8323ec88-9f04-428f-bd5e-d47f2788418f",
   "metadata": {},
   "outputs": [],
   "source": []
  }
 ],
 "metadata": {
  "kernelspec": {
   "display_name": "Python (venv)",
   "language": "python",
   "name": "venv"
  },
  "language_info": {
   "codemirror_mode": {
    "name": "ipython",
    "version": 3
   },
   "file_extension": ".py",
   "mimetype": "text/x-python",
   "name": "python",
   "nbconvert_exporter": "python",
   "pygments_lexer": "ipython3",
   "version": "3.10.11"
  }
 },
 "nbformat": 4,
 "nbformat_minor": 5
}
