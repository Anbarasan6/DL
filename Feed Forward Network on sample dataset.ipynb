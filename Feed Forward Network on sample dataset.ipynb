{
 "cells": [
  {
   "cell_type": "code",
   "execution_count": 1,
   "metadata": {
    "id": "vz5_2MuPJIde"
   },
   "outputs": [],
   "source": [
    "from sklearn.datasets import load_digits\n",
    "from sklearn.model_selection import train_test_split\n",
    "from sklearn.preprocessing import OneHotEncoder\n",
    "from tensorflow.keras.models import Sequential\n",
    "from tensorflow.keras.layers import Dense"
   ]
  },
  {
   "cell_type": "code",
   "execution_count": 2,
   "metadata": {
    "id": "VS_6qGa6J4C4"
   },
   "outputs": [],
   "source": [
    "dis=load_digits()\n",
    "x=dis.data\n",
    "y=dis.target.reshape(-1,1)"
   ]
  },
  {
   "cell_type": "code",
   "execution_count": 3,
   "metadata": {
    "id": "kYQsaM32KG8c"
   },
   "outputs": [],
   "source": [
    "encoder=OneHotEncoder(sparse_output=False)\n",
    "y_en=encoder.fit_transform(y)"
   ]
  },
  {
   "cell_type": "code",
   "execution_count": 4,
   "metadata": {
    "id": "Mg__kEeqKcxv"
   },
   "outputs": [],
   "source": [
    "x_train,x_test,y_train,y_test=train_test_split(x,y_en,test_size=0.2,random_state=42)"
   ]
  },
  {
   "cell_type": "code",
   "execution_count": 5,
   "metadata": {
    "colab": {
     "base_uri": "https://localhost:8080/"
    },
    "id": "p4X2TWWYK0BM",
    "outputId": "d908d08a-7aa4-4b80-8b92-fa3deb405498"
   },
   "outputs": [],
   "source": [
    "model=Sequential()\n",
    "model.add(Dense(32,input_shape=(64,),activation='relu'))\n",
    "model.add(Dense(10,activation='softmax'))\n",
    "model.compile(optimizer='Adam',loss='categorical_crossentropy',metrics=['accuracy'])"
   ]
  },
  {
   "cell_type": "code",
   "execution_count": 6,
   "metadata": {
    "colab": {
     "base_uri": "https://localhost:8080/"
    },
    "id": "8yMEBXwnLy5f",
    "outputId": "2921feef-7695-4c3e-dd6f-d485db05ecaf"
   },
   "outputs": [
    {
     "name": "stdout",
     "output_type": "stream",
     "text": [
      "Epoch 1/10\n",
      "45/45 [==============================] - 6s 8ms/step - loss: 4.5986 - accuracy: 0.2074\n",
      "Epoch 2/10\n",
      "45/45 [==============================] - 0s 8ms/step - loss: 1.3018 - accuracy: 0.5866\n",
      "Epoch 3/10\n",
      "45/45 [==============================] - 0s 8ms/step - loss: 0.6579 - accuracy: 0.7871\n",
      "Epoch 4/10\n",
      "45/45 [==============================] - 0s 9ms/step - loss: 0.4569 - accuracy: 0.8525\n",
      "Epoch 5/10\n",
      "45/45 [==============================] - 0s 9ms/step - loss: 0.3478 - accuracy: 0.8859\n",
      "Epoch 6/10\n",
      "45/45 [==============================] - 0s 8ms/step - loss: 0.2865 - accuracy: 0.9165\n",
      "Epoch 7/10\n",
      "45/45 [==============================] - 0s 7ms/step - loss: 0.2431 - accuracy: 0.9235\n",
      "Epoch 8/10\n",
      "45/45 [==============================] - 0s 7ms/step - loss: 0.2089 - accuracy: 0.9332\n",
      "Epoch 9/10\n",
      "45/45 [==============================] - 0s 8ms/step - loss: 0.1825 - accuracy: 0.9422\n",
      "Epoch 10/10\n",
      "45/45 [==============================] - 0s 8ms/step - loss: 0.1607 - accuracy: 0.9569\n"
     ]
    },
    {
     "data": {
      "text/plain": [
       "<keras.callbacks.History at 0x1c34f1dcfd0>"
      ]
     },
     "execution_count": 6,
     "metadata": {},
     "output_type": "execute_result"
    }
   ],
   "source": [
    "model.fit(x_train,y_train,epochs=10)"
   ]
  },
  {
   "cell_type": "code",
   "execution_count": 7,
   "metadata": {
    "colab": {
     "base_uri": "https://localhost:8080/"
    },
    "id": "9h3MNuyNL73Z",
    "outputId": "84a13b74-ade7-4fc5-cde9-df6fa9b2e4a4"
   },
   "outputs": [
    {
     "name": "stdout",
     "output_type": "stream",
     "text": [
      "12/12 [==============================] - 0s 7ms/step - loss: 0.2663 - accuracy: 0.9222\n",
      "test Accuracy:0.922222\n"
     ]
    }
   ],
   "source": [
    "loss,accuracy=model.evaluate(x_test,y_test)\n",
    "print(f\"test Accuracy:{accuracy:2f}\")"
   ]
  },
  {
   "cell_type": "code",
   "execution_count": null,
   "metadata": {},
   "outputs": [],
   "source": []
  }
 ],
 "metadata": {
  "colab": {
   "provenance": []
  },
  "kernelspec": {
   "display_name": "Python 3 (ipykernel)",
   "language": "python",
   "name": "python3"
  },
  "language_info": {
   "codemirror_mode": {
    "name": "ipython",
    "version": 3
   },
   "file_extension": ".py",
   "mimetype": "text/x-python",
   "name": "python",
   "nbconvert_exporter": "python",
   "pygments_lexer": "ipython3",
   "version": "3.10.11"
  }
 },
 "nbformat": 4,
 "nbformat_minor": 4
}
